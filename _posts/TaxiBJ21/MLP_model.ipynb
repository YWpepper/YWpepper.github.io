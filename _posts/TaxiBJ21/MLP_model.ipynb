{
 "cells": [
  {
   "cell_type": "markdown",
   "metadata": {},
   "source": [
    "# Load Data"
   ]
  },
  {
   "cell_type": "code",
   "execution_count": 1,
   "metadata": {},
   "outputs": [],
   "source": [
    "import numpy as np\n",
    "data = np.load(open('./TaxiBJ21.npy', 'rb'))  # the data file is in the same folder"
   ]
  },
  {
   "cell_type": "code",
   "execution_count": 2,
   "metadata": {},
   "outputs": [
    {
     "data": {
      "text/plain": [
       "(4272, 2, 32, 32)"
      ]
     },
     "execution_count": 2,
     "metadata": {},
     "output_type": "execute_result"
    }
   ],
   "source": [
    "data.shape"
   ]
  },
  {
   "cell_type": "markdown",
   "metadata": {},
   "source": [
    "Here we simply use the historical data as the input features. External factors, e.g., weather, calendar info, are not used yet. "
   ]
  },
  {
   "cell_type": "code",
   "execution_count": 3,
   "metadata": {},
   "outputs": [],
   "source": [
    "# history_length is timestep of the historical window size\n",
    "# predict_length is the prediction horizon\n",
    "def generate_data(data, history_length, predict_length):\n",
    "    history_data = []\n",
    "    predict_data = []\n",
    "    total_length = data.shape[0]\n",
    "    for end_idx in range(history_length + predict_length, total_length):\n",
    "        predict_frames = data[end_idx-predict_length:end_idx]\n",
    "        history_frames = data[end_idx-predict_length-history_length:end_idx-predict_length]\n",
    "        history_data.append(history_frames)\n",
    "        predict_data.append(predict_frames)\n",
    "    history_data = np.stack(history_data)\n",
    "    predict_data = np.stack(predict_data)\n",
    "    return history_data, predict_data"
   ]
  },
  {
   "cell_type": "code",
   "execution_count": 4,
   "metadata": {},
   "outputs": [
    {
     "name": "stdout",
     "output_type": "stream",
     "text": [
      "(4263, 8, 2, 32, 32)\n",
      "(4263, 1, 2, 32, 32)\n"
     ]
    }
   ],
   "source": [
    "history_length = 4 * 2  # use the last 4 hours data\n",
    "predict_length = 1  # predict the next 30 minutes\n",
    "history_data, predict_data = generate_data(data, history_length, predict_length)\n",
    "print(history_data.shape)\n",
    "print(predict_data.shape)"
   ]
  },
  {
   "cell_type": "markdown",
   "metadata": {},
   "source": [
    "Split the data with train:valid:test = 8:1:1. Simply, both the validation and testing sets have a data range of 9 days. The other data are used as training set."
   ]
  },
  {
   "cell_type": "code",
   "execution_count": 5,
   "metadata": {},
   "outputs": [],
   "source": [
    "history_data_train = history_data[:-18 * 48]\n",
    "predict_data_train = predict_data[:-18 * 48]\n",
    "\n",
    "history_data_valid = history_data[-18 * 48:-9 * 48]\n",
    "predict_data_valid = predict_data[-18 * 48:-9 * 48]\n",
    "\n",
    "history_data_test = history_data[-9 * 48:]\n",
    "predict_data_test = predict_data[-9 * 48:]"
   ]
  },
  {
   "cell_type": "markdown",
   "metadata": {},
   "source": [
    "# A Baseline MLP model"
   ]
  },
  {
   "cell_type": "markdown",
   "metadata": {},
   "source": [
    "Reshape the data format:"
   ]
  },
  {
   "cell_type": "code",
   "execution_count": 6,
   "metadata": {},
   "outputs": [
    {
     "data": {
      "text/plain": [
       "(3399, 16384)"
      ]
     },
     "execution_count": 6,
     "metadata": {},
     "output_type": "execute_result"
    }
   ],
   "source": [
    "history_data_train = history_data_train.reshape(history_data_train.shape[0], -1)\n",
    "history_data_train.shape"
   ]
  },
  {
   "cell_type": "code",
   "execution_count": 7,
   "metadata": {},
   "outputs": [
    {
     "data": {
      "text/plain": [
       "(3399, 2048)"
      ]
     },
     "execution_count": 7,
     "metadata": {},
     "output_type": "execute_result"
    }
   ],
   "source": [
    "predict_data_train = predict_data_train.reshape(predict_data_train.shape[0], -1)\n",
    "predict_data_train.shape"
   ]
  },
  {
   "cell_type": "code",
   "execution_count": 8,
   "metadata": {},
   "outputs": [
    {
     "data": {
      "text/plain": [
       "(432, 16384)"
      ]
     },
     "execution_count": 8,
     "metadata": {},
     "output_type": "execute_result"
    }
   ],
   "source": [
    "history_data_valid = history_data_valid.reshape(history_data_valid.shape[0], -1)\n",
    "history_data_valid.shape"
   ]
  },
  {
   "cell_type": "code",
   "execution_count": 9,
   "metadata": {},
   "outputs": [
    {
     "data": {
      "text/plain": [
       "(432, 2048)"
      ]
     },
     "execution_count": 9,
     "metadata": {},
     "output_type": "execute_result"
    }
   ],
   "source": [
    "predict_data_valid = predict_data_valid.reshape(predict_data_valid.shape[0], -1)\n",
    "predict_data_valid.shape"
   ]
  },
  {
   "cell_type": "code",
   "execution_count": 10,
   "metadata": {},
   "outputs": [
    {
     "data": {
      "text/plain": [
       "(432, 16384)"
      ]
     },
     "execution_count": 10,
     "metadata": {},
     "output_type": "execute_result"
    }
   ],
   "source": [
    "history_data_test = history_data_test.reshape(history_data_test.shape[0], -1)\n",
    "history_data_test.shape"
   ]
  },
  {
   "cell_type": "code",
   "execution_count": 11,
   "metadata": {},
   "outputs": [
    {
     "data": {
      "text/plain": [
       "(432, 2048)"
      ]
     },
     "execution_count": 11,
     "metadata": {},
     "output_type": "execute_result"
    }
   ],
   "source": [
    "predict_data_test = predict_data_test.reshape(predict_data_test.shape[0], -1)\n",
    "predict_data_test.shape"
   ]
  },
  {
   "cell_type": "markdown",
   "metadata": {},
   "source": [
    "Build the model:"
   ]
  },
  {
   "cell_type": "code",
   "execution_count": 12,
   "metadata": {},
   "outputs": [],
   "source": [
    "import tensorflow as tf\n",
    "\n",
    "\n",
    "model = tf.keras.models.Sequential([\n",
    "    tf.keras.layers.Dense(512, activation='relu', input_dim=history_data_train.shape[-1]),\n",
    "    tf.keras.layers.Dense(512, activation='relu'),\n",
    "    tf.keras.layers.Dense(512, activation='relu'),\n",
    "    tf.keras.layers.Dense(512, activation='relu'),\n",
    "    tf.keras.layers.Dense(512, activation='relu'),\n",
    "    tf.keras.layers.Dense(predict_data_train.shape[-1], activation='sigmoid')\n",
    "])"
   ]
  },
  {
   "cell_type": "code",
   "execution_count": 13,
   "metadata": {},
   "outputs": [
    {
     "name": "stdout",
     "output_type": "stream",
     "text": [
      "Model: \"sequential\"\n",
      "_________________________________________________________________\n",
      "Layer (type)                 Output Shape              Param #   \n",
      "=================================================================\n",
      "dense (Dense)                (None, 512)               8389120   \n",
      "_________________________________________________________________\n",
      "dense_1 (Dense)              (None, 512)               262656    \n",
      "_________________________________________________________________\n",
      "dense_2 (Dense)              (None, 512)               262656    \n",
      "_________________________________________________________________\n",
      "dense_3 (Dense)              (None, 512)               262656    \n",
      "_________________________________________________________________\n",
      "dense_4 (Dense)              (None, 512)               262656    \n",
      "_________________________________________________________________\n",
      "dense_5 (Dense)              (None, 2048)              1050624   \n",
      "=================================================================\n",
      "Total params: 10,490,368\n",
      "Trainable params: 10,490,368\n",
      "Non-trainable params: 0\n",
      "_________________________________________________________________\n",
      "None\n"
     ]
    }
   ],
   "source": [
    "print(model.summary())"
   ]
  },
  {
   "cell_type": "code",
   "execution_count": 14,
   "metadata": {},
   "outputs": [],
   "source": [
    "model.compile(loss=\"mse\", optimizer=\"adam\")"
   ]
  },
  {
   "cell_type": "code",
   "execution_count": 15,
   "metadata": {},
   "outputs": [
    {
     "name": "stdout",
     "output_type": "stream",
     "text": [
      "Epoch 1/100\n",
      "340/340 [==============================] - 1s 4ms/step - loss: 0.0084 - val_loss: 0.0021\n",
      "Epoch 2/100\n",
      "340/340 [==============================] - 1s 3ms/step - loss: 0.0012 - val_loss: 0.0017\n",
      "Epoch 3/100\n",
      "340/340 [==============================] - 1s 3ms/step - loss: 8.3043e-04 - val_loss: 9.8986e-04\n",
      "Epoch 4/100\n",
      "340/340 [==============================] - 1s 3ms/step - loss: 6.1202e-04 - val_loss: 8.2452e-04\n",
      "Epoch 5/100\n",
      "340/340 [==============================] - 1s 3ms/step - loss: 6.0375e-04 - val_loss: 8.6686e-04\n",
      "Epoch 6/100\n",
      "340/340 [==============================] - 1s 3ms/step - loss: 5.6234e-04 - val_loss: 7.7167e-04\n",
      "Epoch 7/100\n",
      "340/340 [==============================] - 1s 3ms/step - loss: 5.2031e-04 - val_loss: 7.2740e-04\n",
      "Epoch 8/100\n",
      "340/340 [==============================] - 1s 3ms/step - loss: 4.4807e-04 - val_loss: 6.1712e-04\n",
      "Epoch 9/100\n",
      "340/340 [==============================] - 1s 3ms/step - loss: 4.3057e-04 - val_loss: 6.6203e-04\n",
      "Epoch 10/100\n",
      "340/340 [==============================] - 1s 3ms/step - loss: 4.2812e-04 - val_loss: 5.4380e-04\n",
      "Epoch 11/100\n",
      "340/340 [==============================] - 1s 3ms/step - loss: 4.4670e-04 - val_loss: 8.0781e-04\n",
      "Epoch 12/100\n",
      "340/340 [==============================] - 1s 3ms/step - loss: 4.2623e-04 - val_loss: 5.5479e-04\n",
      "Epoch 13/100\n",
      "340/340 [==============================] - 1s 3ms/step - loss: 3.8402e-04 - val_loss: 5.4436e-04\n",
      "Epoch 14/100\n",
      "340/340 [==============================] - 1s 3ms/step - loss: 3.7770e-04 - val_loss: 5.2540e-04\n",
      "Epoch 15/100\n",
      "340/340 [==============================] - 1s 3ms/step - loss: 4.0311e-04 - val_loss: 6.2302e-04\n",
      "Epoch 16/100\n",
      "340/340 [==============================] - 1s 3ms/step - loss: 3.7636e-04 - val_loss: 5.0799e-04\n",
      "Epoch 17/100\n",
      "340/340 [==============================] - 1s 4ms/step - loss: 3.6781e-04 - val_loss: 5.3586e-04\n",
      "Epoch 18/100\n",
      "340/340 [==============================] - 1s 3ms/step - loss: 3.7832e-04 - val_loss: 5.3954e-04\n",
      "Epoch 19/100\n",
      "340/340 [==============================] - 1s 4ms/step - loss: 3.4214e-04 - val_loss: 6.3298e-04\n",
      "Epoch 20/100\n",
      "340/340 [==============================] - 1s 3ms/step - loss: 3.4632e-04 - val_loss: 5.7159e-04\n",
      "Epoch 21/100\n",
      "340/340 [==============================] - 1s 3ms/step - loss: 3.5525e-04 - val_loss: 5.5324e-04\n",
      "Epoch 22/100\n",
      "340/340 [==============================] - 1s 3ms/step - loss: 3.6021e-04 - val_loss: 4.8657e-04\n",
      "Epoch 23/100\n",
      "340/340 [==============================] - 1s 3ms/step - loss: 3.4535e-04 - val_loss: 7.3342e-04\n",
      "Epoch 24/100\n",
      "340/340 [==============================] - 1s 3ms/step - loss: 3.2861e-04 - val_loss: 4.8593e-04\n",
      "Epoch 25/100\n",
      "340/340 [==============================] - 1s 3ms/step - loss: 3.3275e-04 - val_loss: 4.8939e-04\n",
      "Epoch 26/100\n",
      "340/340 [==============================] - 1s 3ms/step - loss: 3.3151e-04 - val_loss: 4.8816e-04\n",
      "Epoch 27/100\n",
      "340/340 [==============================] - 1s 3ms/step - loss: 3.0839e-04 - val_loss: 4.8964e-04\n",
      "Epoch 28/100\n",
      "340/340 [==============================] - 1s 3ms/step - loss: 3.2591e-04 - val_loss: 5.0535e-04\n",
      "Epoch 29/100\n",
      "340/340 [==============================] - 1s 3ms/step - loss: 2.9895e-04 - val_loss: 4.5995e-04\n",
      "Epoch 30/100\n",
      "340/340 [==============================] - 1s 3ms/step - loss: 3.6738e-04 - val_loss: 4.9901e-04\n",
      "Epoch 31/100\n",
      "340/340 [==============================] - 1s 3ms/step - loss: 3.8268e-04 - val_loss: 5.1834e-04\n",
      "Epoch 32/100\n",
      "340/340 [==============================] - 1s 3ms/step - loss: 3.3564e-04 - val_loss: 4.6293e-04\n",
      "Epoch 33/100\n",
      "340/340 [==============================] - 1s 3ms/step - loss: 3.1412e-04 - val_loss: 4.6671e-04\n",
      "Epoch 34/100\n",
      "340/340 [==============================] - 1s 3ms/step - loss: 3.0918e-04 - val_loss: 4.6608e-04\n",
      "Epoch 35/100\n",
      "340/340 [==============================] - 1s 3ms/step - loss: 2.9459e-04 - val_loss: 5.4664e-04\n",
      "Epoch 36/100\n",
      "340/340 [==============================] - 1s 3ms/step - loss: 3.1438e-04 - val_loss: 5.2549e-04\n",
      "Epoch 37/100\n",
      "340/340 [==============================] - 1s 3ms/step - loss: 2.7931e-04 - val_loss: 6.0979e-04\n",
      "Epoch 38/100\n",
      "340/340 [==============================] - 1s 3ms/step - loss: 3.1559e-04 - val_loss: 5.7744e-04\n",
      "Epoch 39/100\n",
      "340/340 [==============================] - 1s 3ms/step - loss: 2.7957e-04 - val_loss: 5.0057e-04\n",
      "Epoch 40/100\n",
      "340/340 [==============================] - 1s 3ms/step - loss: 2.9135e-04 - val_loss: 5.6040e-04\n",
      "Epoch 41/100\n",
      "340/340 [==============================] - 1s 3ms/step - loss: 2.9171e-04 - val_loss: 4.4010e-04\n",
      "Epoch 42/100\n",
      "340/340 [==============================] - 1s 3ms/step - loss: 2.6552e-04 - val_loss: 4.7385e-04\n",
      "Epoch 43/100\n",
      "340/340 [==============================] - 1s 3ms/step - loss: 2.9399e-04 - val_loss: 4.5601e-04\n",
      "Epoch 44/100\n",
      "340/340 [==============================] - 1s 3ms/step - loss: 3.2203e-04 - val_loss: 4.5493e-04\n",
      "Epoch 45/100\n",
      "340/340 [==============================] - 1s 3ms/step - loss: 2.9237e-04 - val_loss: 4.6313e-04\n",
      "Epoch 46/100\n",
      "340/340 [==============================] - 1s 3ms/step - loss: 2.6463e-04 - val_loss: 4.6100e-04\n",
      "Epoch 47/100\n",
      "340/340 [==============================] - 1s 3ms/step - loss: 2.6021e-04 - val_loss: 4.5712e-04\n",
      "Epoch 48/100\n",
      "340/340 [==============================] - 1s 3ms/step - loss: 2.5643e-04 - val_loss: 4.5758e-04\n",
      "Epoch 49/100\n",
      "340/340 [==============================] - 1s 3ms/step - loss: 2.7321e-04 - val_loss: 4.5291e-04\n",
      "Epoch 50/100\n",
      "340/340 [==============================] - 1s 3ms/step - loss: 2.9564e-04 - val_loss: 4.4742e-04\n",
      "Epoch 51/100\n",
      "340/340 [==============================] - 1s 3ms/step - loss: 2.6872e-04 - val_loss: 4.9113e-04\n",
      "Epoch 52/100\n",
      "340/340 [==============================] - 1s 3ms/step - loss: 2.8507e-04 - val_loss: 5.8195e-04\n",
      "Epoch 53/100\n",
      "340/340 [==============================] - 1s 3ms/step - loss: 2.6475e-04 - val_loss: 4.4715e-04\n",
      "Epoch 54/100\n",
      "340/340 [==============================] - 1s 3ms/step - loss: 2.9585e-04 - val_loss: 4.3347e-04\n",
      "Epoch 55/100\n",
      "340/340 [==============================] - 1s 3ms/step - loss: 2.5394e-04 - val_loss: 4.4649e-04\n",
      "Epoch 56/100\n",
      "340/340 [==============================] - 1s 3ms/step - loss: 2.4532e-04 - val_loss: 4.2069e-04\n",
      "Epoch 57/100\n",
      "340/340 [==============================] - 1s 3ms/step - loss: 2.6314e-04 - val_loss: 4.8095e-04\n",
      "Epoch 58/100\n",
      "340/340 [==============================] - 1s 3ms/step - loss: 2.9288e-04 - val_loss: 5.2378e-04\n",
      "Epoch 59/100\n",
      "340/340 [==============================] - 1s 3ms/step - loss: 2.9951e-04 - val_loss: 4.5944e-04\n",
      "Epoch 60/100\n",
      "340/340 [==============================] - 1s 3ms/step - loss: 2.4803e-04 - val_loss: 4.3542e-04\n",
      "Epoch 61/100\n",
      "340/340 [==============================] - 1s 3ms/step - loss: 2.3848e-04 - val_loss: 4.4683e-04\n",
      "Epoch 62/100\n",
      "340/340 [==============================] - 1s 3ms/step - loss: 2.7994e-04 - val_loss: 4.4431e-04\n",
      "Epoch 63/100\n",
      "340/340 [==============================] - 1s 3ms/step - loss: 2.3537e-04 - val_loss: 4.4390e-04\n",
      "Epoch 64/100\n",
      "340/340 [==============================] - 1s 3ms/step - loss: 2.3912e-04 - val_loss: 4.4614e-04\n",
      "Epoch 65/100\n",
      "340/340 [==============================] - 1s 3ms/step - loss: 2.3951e-04 - val_loss: 4.3311e-04\n",
      "Epoch 66/100\n",
      "340/340 [==============================] - 1s 4ms/step - loss: 2.4186e-04 - val_loss: 4.6331e-04\n",
      "Epoch 67/100\n",
      "340/340 [==============================] - 1s 4ms/step - loss: 2.5174e-04 - val_loss: 4.4784e-04\n",
      "Epoch 68/100\n",
      "340/340 [==============================] - 1s 3ms/step - loss: 2.6045e-04 - val_loss: 4.5265e-04\n",
      "Epoch 69/100\n",
      "340/340 [==============================] - 1s 3ms/step - loss: 2.3602e-04 - val_loss: 4.4545e-04\n",
      "Epoch 70/100\n",
      "340/340 [==============================] - 1s 3ms/step - loss: 2.3328e-04 - val_loss: 4.4824e-04\n",
      "Epoch 71/100\n",
      "340/340 [==============================] - 1s 3ms/step - loss: 2.7408e-04 - val_loss: 4.2594e-04\n",
      "Epoch 72/100\n",
      "340/340 [==============================] - 1s 3ms/step - loss: 2.3673e-04 - val_loss: 4.4790e-04\n",
      "Epoch 73/100\n",
      "340/340 [==============================] - 1s 3ms/step - loss: 2.3672e-04 - val_loss: 4.4004e-04\n",
      "Epoch 74/100\n",
      "340/340 [==============================] - 1s 3ms/step - loss: 2.3288e-04 - val_loss: 4.3915e-04\n",
      "Epoch 75/100\n",
      "340/340 [==============================] - 1s 3ms/step - loss: 2.3365e-04 - val_loss: 4.8735e-04\n",
      "Epoch 76/100\n",
      "340/340 [==============================] - 1s 3ms/step - loss: 2.9678e-04 - val_loss: 4.4299e-04\n",
      "Epoch 77/100\n",
      "340/340 [==============================] - 1s 3ms/step - loss: 2.3330e-04 - val_loss: 4.4440e-04\n",
      "Epoch 78/100\n",
      "340/340 [==============================] - 1s 3ms/step - loss: 2.2424e-04 - val_loss: 4.2737e-04\n",
      "Epoch 79/100\n",
      "340/340 [==============================] - 1s 3ms/step - loss: 2.6201e-04 - val_loss: 4.2937e-04\n",
      "Epoch 80/100\n",
      "340/340 [==============================] - 1s 3ms/step - loss: 2.2484e-04 - val_loss: 4.2428e-04\n",
      "Epoch 81/100\n",
      "340/340 [==============================] - 1s 3ms/step - loss: 2.3387e-04 - val_loss: 4.4573e-04\n",
      "Epoch 82/100\n",
      "340/340 [==============================] - 1s 3ms/step - loss: 2.4145e-04 - val_loss: 4.5459e-04\n",
      "Epoch 83/100\n",
      "340/340 [==============================] - 1s 3ms/step - loss: 2.4540e-04 - val_loss: 4.2845e-04\n",
      "Epoch 84/100\n",
      "340/340 [==============================] - 1s 3ms/step - loss: 2.2030e-04 - val_loss: 4.2294e-04\n",
      "Epoch 85/100\n",
      "340/340 [==============================] - 1s 3ms/step - loss: 2.2465e-04 - val_loss: 4.3821e-04\n",
      "Epoch 86/100\n",
      "340/340 [==============================] - 1s 3ms/step - loss: 2.1958e-04 - val_loss: 4.5211e-04\n",
      "Epoch 87/100\n",
      "340/340 [==============================] - 1s 3ms/step - loss: 2.3236e-04 - val_loss: 4.1929e-04\n",
      "Epoch 88/100\n",
      "340/340 [==============================] - 1s 3ms/step - loss: 2.8873e-04 - val_loss: 4.3894e-04\n",
      "Epoch 89/100\n",
      "340/340 [==============================] - 1s 3ms/step - loss: 2.2001e-04 - val_loss: 4.4863e-04\n",
      "Epoch 90/100\n",
      "340/340 [==============================] - 1s 3ms/step - loss: 2.1906e-04 - val_loss: 4.2893e-04\n",
      "Epoch 91/100\n",
      "340/340 [==============================] - 1s 3ms/step - loss: 2.2160e-04 - val_loss: 4.4602e-04\n",
      "Epoch 92/100\n",
      "340/340 [==============================] - 1s 3ms/step - loss: 2.3100e-04 - val_loss: 4.3167e-04\n",
      "Epoch 93/100\n",
      "340/340 [==============================] - 1s 3ms/step - loss: 2.2707e-04 - val_loss: 4.2451e-04\n",
      "Epoch 94/100\n",
      "340/340 [==============================] - 1s 3ms/step - loss: 2.2602e-04 - val_loss: 4.3027e-04\n",
      "Epoch 95/100\n",
      "340/340 [==============================] - 1s 3ms/step - loss: 2.2243e-04 - val_loss: 4.2538e-04\n",
      "Epoch 96/100\n",
      "340/340 [==============================] - 1s 3ms/step - loss: 3.0121e-04 - val_loss: 4.3696e-04\n",
      "Epoch 97/100\n",
      "340/340 [==============================] - 1s 3ms/step - loss: 2.2434e-04 - val_loss: 4.3628e-04\n",
      "Epoch 98/100\n",
      "340/340 [==============================] - 1s 3ms/step - loss: 2.1368e-04 - val_loss: 4.1960e-04\n",
      "Epoch 99/100\n",
      "340/340 [==============================] - 1s 3ms/step - loss: 2.1316e-04 - val_loss: 4.4818e-04\n",
      "Epoch 100/100\n",
      "340/340 [==============================] - 1s 3ms/step - loss: 2.1219e-04 - val_loss: 4.3011e-04\n"
     ]
    },
    {
     "data": {
      "text/plain": [
       "<tensorflow.python.keras.callbacks.History at 0x15b8394a6a0>"
      ]
     },
     "execution_count": 15,
     "metadata": {},
     "output_type": "execute_result"
    }
   ],
   "source": [
    "model.fit(\n",
    "    history_data_train,\n",
    "    predict_data_train,\n",
    "    batch_size=10,\n",
    "    epochs=100,\n",
    "    validation_data = (history_data_valid, predict_data_valid),\n",
    "    # callbacks=tf.keras.callbacks.EarlyStopping(patience=10, monitor='val_loss'),\n",
    "    verbose=1)"
   ]
  },
  {
   "cell_type": "code",
   "execution_count": 16,
   "metadata": {},
   "outputs": [],
   "source": [
    "predict_results = model.predict(history_data_test)"
   ]
  },
  {
   "cell_type": "code",
   "execution_count": 17,
   "metadata": {},
   "outputs": [
    {
     "data": {
      "text/plain": [
       "(432, 2048)"
      ]
     },
     "execution_count": 17,
     "metadata": {},
     "output_type": "execute_result"
    }
   ],
   "source": [
    "predict_results.shape"
   ]
  },
  {
   "cell_type": "code",
   "execution_count": 18,
   "metadata": {},
   "outputs": [],
   "source": [
    "from sklearn.metrics import mean_squared_error, mean_absolute_error"
   ]
  },
  {
   "cell_type": "markdown",
   "metadata": {},
   "source": [
    "Evalute RMSE:"
   ]
  },
  {
   "cell_type": "code",
   "execution_count": 19,
   "metadata": {},
   "outputs": [
    {
     "data": {
      "text/plain": [
       "0.02654992471867174"
      ]
     },
     "execution_count": 19,
     "metadata": {},
     "output_type": "execute_result"
    }
   ],
   "source": [
    "np.sqrt(mean_squared_error(predict_results.flatten(), predict_data_test.flatten()))"
   ]
  },
  {
   "cell_type": "markdown",
   "metadata": {},
   "source": [
    "Evaluate MAE:"
   ]
  },
  {
   "cell_type": "code",
   "execution_count": 20,
   "metadata": {},
   "outputs": [
    {
     "data": {
      "text/plain": [
       "0.011686256842014228"
      ]
     },
     "execution_count": 20,
     "metadata": {},
     "output_type": "execute_result"
    }
   ],
   "source": [
    "mean_absolute_error(predict_results.flatten(), predict_data_test.flatten())"
   ]
  }
 ],
 "metadata": {
  "kernelspec": {
   "display_name": "Python 3",
   "language": "python",
   "name": "python3"
  },
  "language_info": {
   "codemirror_mode": {
    "name": "ipython",
    "version": 3
   },
   "file_extension": ".py",
   "mimetype": "text/x-python",
   "name": "python",
   "nbconvert_exporter": "python",
   "pygments_lexer": "ipython3",
   "version": "3.7.3"
  }
 },
 "nbformat": 4,
 "nbformat_minor": 4
}
